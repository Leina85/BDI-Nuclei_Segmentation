{
 "cells": [
  {
   "cell_type": "code",
   "execution_count": null,
   "id": "d1f93bf1",
   "metadata": {},
   "outputs": [],
   "source": [
    "import numpy as np\n",
    "import matplotlib.pyplot as plt\n",
    "from PIL import Image\n",
    "import cv2\n",
    "from scipy import ndimage"
   ]
  },
  {
   "cell_type": "code",
   "execution_count": null,
   "id": "c5304b31",
   "metadata": {},
   "outputs": [],
   "source": [
    "tile = np.array(Image.open(r\"C:\\Users\\Leina School\\Desktop\\Work Exp BDI\\BDI-Nuclei_Segmentation\\results\\tissue_tile.jpg\"))"
   ]
  },
  {
   "cell_type": "code",
   "execution_count": null,
   "id": "dfcb9412",
   "metadata": {},
   "outputs": [],
   "source": [
    "tile_image = Image.fromarray(tile)\n",
    "tile_image.show()"
   ]
  },
  {
   "cell_type": "code",
   "execution_count": null,
   "id": "b17e2cff",
   "metadata": {},
   "outputs": [],
   "source": [
    "# Convert NumPy array to PIL Image to change to greyscale\n",
    "grey_tile = tile_image.convert(\"L\")\n",
    "grey_tile.show()\n",
    "\n",
    "# Convert greyscale image back to NumPy array\n",
    "grey_array = np.array(grey_tile)\n",
    "\n",
    "plt.figure(figsize=(8, 4))\n",
    "plt.hist(grey_array.ravel(), bins=250, color='gray')  # .ravel() flattens the array\n",
    "plt.title(\"Grayscale Intensity Distribution\")\n",
    "plt.xlabel(\"Pixel Intensity (0–255)\")\n",
    "plt.ylabel(\"Frequency\")\n",
    "plt.grid(True)\n",
    "plt.show()\n"
   ]
  },
  {
   "cell_type": "code",
   "execution_count": null,
   "id": "58b3d59e",
   "metadata": {},
   "outputs": [],
   "source": [
    "# Load the image in RGB\n",
    "\n",
    "\n",
    "# Split into raw channels\n",
    "r, g, b = cv2.split(tile)\n"
   ]
  },
  {
   "cell_type": "code",
   "execution_count": null,
   "id": "545dad4b",
   "metadata": {},
   "outputs": [],
   "source": [
    "fig, axs = plt.subplots(1, 3, figsize=(15, 5))\n",
    "\n",
    "axs[0].imshow(r, cmap='grey')\n",
    "axs[1].imshow(g, cmap='grey')\n",
    "axs[2].imshow(b, cmap='grey')\n",
    "plt.tight_layout()\n",
    "plt.show()"
   ]
  },
  {
   "cell_type": "code",
   "execution_count": null,
   "id": "f4c57894",
   "metadata": {},
   "outputs": [],
   "source": [
    "fig, axs = plt.subplots(1, 4, figsize=(15, 5))\n",
    "\n",
    "axs[0].imshow(tile)\n",
    "axs[1].imshow(r, cmap='Reds')\n",
    "axs[2].imshow(g, cmap='Blues')\n",
    "axs[3].imshow(b, cmap='Greens')\n",
    "plt.tight_layout()\n",
    "plt.show()"
   ]
  },
  {
   "cell_type": "code",
   "execution_count": null,
   "id": "569f8702",
   "metadata": {},
   "outputs": [],
   "source": [
    "\n",
    "\n",
    "# Convert greyscale image back to NumPy array\n",
    "r = np.array(r)\n",
    "\n",
    "plt.figure(figsize=(8, 4))\n",
    "plt.hist(r.ravel(), bins=250, color='gray')  # .ravel() flattens the array\n",
    "plt.title(\"Grayscale Intensity Distribution\")\n",
    "plt.xlabel(\"Pixel Intensity (0–255)\")\n",
    "plt.ylabel(\"Frequency\")\n",
    "plt.grid(True)\n",
    "plt.show()"
   ]
  },
  {
   "cell_type": "code",
   "execution_count": null,
   "id": "ccc124b4",
   "metadata": {},
   "outputs": [],
   "source": [
    "r_channel = np.where(r >= 100, 255, 0).astype(np.uint8)\n",
    "invert_r_channel = 255 - r_channel\n",
    "r_image = Image.fromarray(r_channel)\n",
    "r_image.show() #point of comparison"
   ]
  },
  {
   "cell_type": "code",
   "execution_count": null,
   "id": "b1e15a50",
   "metadata": {},
   "outputs": [],
   "source": [
    "# format cellSAM mask for comparison with r_channel tile verson later\n",
    "mask = np.array(Image.open(r\"C:\\Users\\Leina School\\Desktop\\Work Exp BDI\\BDI-Nuclei_Segmentation\\results\\mask.jpg\"))\n",
    "binary_mask = np.where(mask >= 100, 255, 0).astype(np.uint8)\n",
    "#print(binary_mask)\n",
    "#inverted_img = Image.fromarray(binary_mask)\n",
    "#inverted_img.show() # inverted cellSAM mask\n",
    "bool_mask = binary_mask.astype(bool)\n",
    "print(bool_mask)\n",
    "\n",
    "x = Image.fromarray(bool_mask)\n",
    "x.show()"
   ]
  },
  {
   "cell_type": "code",
   "execution_count": null,
   "id": "b95a357f",
   "metadata": {},
   "outputs": [],
   "source": [
    "#dilate\n",
    "r_img_arr = np.array(r_image)\n",
    "bool_img = r_img_arr.astype(bool)\n",
    "\n",
    "bool_invert_r_channel = invert_r_channel.astype(bool)\n",
    "\n",
    "dilated_img = ndimage.binary_dilation(bool_invert_r_channel, iterations=1)\n",
    "print(dilated_img)\n",
    "\n",
    "y = Image.fromarray(dilated_img)\n",
    "y.show()"
   ]
  },
  {
   "cell_type": "code",
   "execution_count": null,
   "id": "22075251",
   "metadata": {},
   "outputs": [],
   "source": [
    "def dice_coefficient_np(set1, set2):\n",
    "    set1 = np.array(set1)\n",
    "    set2 = np.array(set2)\n",
    "    intersection = np.sum(np.logical_and(set1, set2))\n",
    "    return 2. * intersection / (np.sum(set1) + np.sum(set2))"
   ]
  },
  {
   "cell_type": "code",
   "execution_count": null,
   "id": "3d4c0821",
   "metadata": {},
   "outputs": [],
   "source": [
    "dice_coefficient_np(bool_mask, dilated_img)"
   ]
  }
 ],
 "metadata": {
  "kernelspec": {
   "display_name": "BDIvenv",
   "language": "python",
   "name": "python3"
  },
  "language_info": {
   "codemirror_mode": {
    "name": "ipython",
    "version": 3
   },
   "file_extension": ".py",
   "mimetype": "text/x-python",
   "name": "python",
   "nbconvert_exporter": "python",
   "pygments_lexer": "ipython3",
   "version": "3.13.1"
  }
 },
 "nbformat": 4,
 "nbformat_minor": 5
}
