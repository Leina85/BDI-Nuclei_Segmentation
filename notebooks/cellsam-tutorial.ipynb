{
 "cells": [
  {
   "cell_type": "code",
   "execution_count": null,
   "id": "f305e6e0",
   "metadata": {},
   "outputs": [],
   "source": [
    "import imageio.v3 as iio\n",
    "import numpy as np\n",
    "import scipy as sp\n",
    "import matplotlib.pyplot as plt\n",
    "import matplotlib.patches as patches\n",
    "from tqdm import tqdm\n",
    "from cellSAM import cellsam_pipeline\n",
    "from PIL import Image\n",
    "Image.MAX_IMAGE_PIXELS = None\n",
    "import sys\n",
    "sys.path.append(r\"C:\\Users\\Leina School\\Desktop\\Work Exp BDI\\BDI-Nuclei_Segmentation\\pipeline\")\n",
    "\n",
    "image = np.array(Image.open(r\"C:\\Users\\Leina School\\Desktop\\Work Exp BDI\\data\\GTEX-113JC-2226.jpg\")) \n"
   ]
  },
  {
   "cell_type": "code",
   "execution_count": null,
   "id": "d80d3f40",
   "metadata": {},
   "outputs": [],
   "source": [
    "from img_manipulation import format_img, tile_img, seperate_tile_types\n",
    "from find_means import find_means\n",
    "from run_cellSAM import cellSAM\n"
   ]
  },
  {
   "cell_type": "code",
   "execution_count": null,
   "id": "92db3c08",
   "metadata": {},
   "outputs": [],
   "source": [
    "w_target, h_target = 55750, 40500\n",
    "tile_size = 250\n",
    "\n",
    "cropped_image = format_img(image, w_target, h_target)\n",
    "\n",
    "tiles = tile_img(cropped_image, tile_size)\n",
    "\n",
    "means = find_means(tiles)\n",
    "\n",
    "tissue_tiles, background_tiles = seperate_tile_types(means)\n",
    "\n",
    "mask = cellSAM(tiles[tissue_tiles[967]])"
   ]
  },
  {
   "cell_type": "code",
   "execution_count": null,
   "id": "87dc226c",
   "metadata": {},
   "outputs": [],
   "source": [
    "plt.imshow(mask)"
   ]
  },
  {
   "cell_type": "code",
   "execution_count": null,
   "id": "ecd3bdfc",
   "metadata": {},
   "outputs": [],
   "source": [
    "plt.imshow(tiles[tissue_tiles[967]])"
   ]
  },
  {
   "cell_type": "code",
   "execution_count": null,
   "id": "c841bd48",
   "metadata": {},
   "outputs": [],
   "source": [
    "#self tiler\n",
    "#crop image so exact tiles made\n",
    "targ_width, targ_height = 55750, 40500\n",
    "\n",
    "image = image[:targ_height, :targ_width]\n",
    "#cropped_pil_image = Image.fromarray(cropped_image)\n",
    "#cropped_pil_image.save('cropped_image.jpg')"
   ]
  },
  {
   "cell_type": "code",
   "execution_count": null,
   "id": "d1c93d6f",
   "metadata": {},
   "outputs": [],
   "source": [
    "\n",
    "tile_size = 250\n",
    "\n",
    "h_tile_num = image.shape[0]//tile_size\n",
    "w_tile_num = image.shape[1]//tile_size\n",
    "\n",
    "tiles = []\n",
    "\n",
    "for y in range(h_tile_num):\n",
    "    for x in range(w_tile_num):\n",
    "        #start:stop(not inclusive)\n",
    "        tile = image[y*tile_size:(y+1)*tile_size, x*tile_size:(x+1)*tile_size, :]\n",
    "        tiles.append(tile)\n",
    "            \n",
    "#print(tiles)"
   ]
  },
  {
   "cell_type": "code",
   "execution_count": null,
   "id": "9336e0e3",
   "metadata": {},
   "outputs": [],
   "source": [
    "#histogram\n",
    "means = []\n",
    "\n",
    "#find averages of each tile pixel values in greyscale\n",
    "for tile in tiles:\n",
    "    img_section = Image.fromarray(tile)\n",
    "    grey_img = img_section.convert(\"L\")\n",
    "    grey_tile = np.array(grey_img)\n",
    "    means.append(grey_tile.mean()) \n",
    "\n",
    "print(means)\n",
    "plt.hist(means, bins = 250)"
   ]
  },
  {
   "cell_type": "code",
   "execution_count": null,
   "id": "7c6fee5b",
   "metadata": {},
   "outputs": [],
   "source": [
    "#seperate tile types\n",
    "background_tile = []\n",
    "tissue_tile = []\n",
    "\n",
    "#for every tile, check avg, if surpasses threshhold then store index in array\n",
    "for tile in range(len(means)):\n",
    "   print(means[tile])\n",
    "   if means[tile] < 225:\n",
    "      tissue_tile.append(tile)\n",
    "   else:\n",
    "      background_tile.append(tile)"
   ]
  },
  {
   "cell_type": "code",
   "execution_count": null,
   "id": "0fd4d6b7",
   "metadata": {},
   "outputs": [],
   "source": [
    "image = tiles[tissue_tile[967]]\n",
    "\n",
    " #Run inference pipeline\n",
    "mask = cellsam_pipeline(\n",
    "    image, use_wsi=True, low_contrast_enhancement=False, gauge_cell_size=False\n",
    ")\n",
    "\n",
    "# Visualize results\n",
    "plt.imshow(mask)"
   ]
  },
  {
   "cell_type": "code",
   "execution_count": null,
   "id": "61703ad1",
   "metadata": {},
   "outputs": [],
   "source": [
    "plt.imshow(image)"
   ]
  },
  {
   "cell_type": "code",
   "execution_count": null,
   "id": "b6bfc501",
   "metadata": {},
   "outputs": [],
   "source": [
    "#iterate through tissue_tiles and create a tiles equivalent array of masks\n",
    "\n",
    "masks = []\n",
    "\n",
    "for tile in tqdm(tissue_tile):\n",
    "    mask = cellsam_pipeline(tiles[tile], use_wsi=True, low_contrast_enhancement=False, gauge_cell_size=False)\n",
    "    mask = mask.tolist()\n",
    "    masks.append(mask)"
   ]
  },
  {
   "cell_type": "code",
   "execution_count": null,
   "id": "89ecb349",
   "metadata": {},
   "outputs": [],
   "source": [
    "# Use several iterations to make the mask edge visible when plotting\n",
    "dilated_mask = sp.ndimage.binary_dilation(pred_mask > 0, iterations=5)\n",
    "edges = (dilated_mask > pred_mask).astype(np.uint8)\n",
    "\n",
    "# Plot the image\n",
    "plt.imshow(red_test_tile, cmap=\"gray\")\n",
    "\n",
    "# And the outlines from the mask\n",
    "plt.imshow(255 * edges, cmap=\"Reds\", alpha=edges)"
   ]
  },
  {
   "cell_type": "code",
   "execution_count": null,
   "id": "1b5864c4",
   "metadata": {},
   "outputs": [],
   "source": [
    "print(edges)"
   ]
  }
 ],
 "metadata": {
  "kernelspec": {
   "display_name": "BDIvenv",
   "language": "python",
   "name": "python3"
  },
  "language_info": {
   "codemirror_mode": {
    "name": "ipython",
    "version": 3
   },
   "file_extension": ".py",
   "mimetype": "text/x-python",
   "name": "python",
   "nbconvert_exporter": "python",
   "pygments_lexer": "ipython3",
   "version": "3.13.1"
  }
 },
 "nbformat": 4,
 "nbformat_minor": 5
}
